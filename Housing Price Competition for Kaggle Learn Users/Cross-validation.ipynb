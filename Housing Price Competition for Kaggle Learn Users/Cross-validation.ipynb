{
 "cells": [
  {
   "cell_type": "markdown",
   "metadata": {},
   "source": [
    "###  To-Do\n",
    "- [x] cross-validation\n",
    "- [x] Visualize the results\n",
    "\n",
    "#### Cross-validation with less missing features and 250 estimators\n",
    "- MAE: 17448.4844109589\n",
    "- Kaggle score: 16373.11794\n",
    "\n",
    "#### Cross-validation with all the data and 300 estimators\n",
    "- MAE: 17479.838664383562\n",
    "- Kaggle score: 16423.34155"
   ]
  },
  {
   "cell_type": "code",
   "execution_count": 6,
   "metadata": {},
   "outputs": [],
   "source": [
    "import pandas as pd\n",
    "from sklearn.compose import ColumnTransformer\n",
    "from sklearn.pipeline import Pipeline\n",
    "from sklearn.impute import SimpleImputer\n",
    "from sklearn.preprocessing import OneHotEncoder\n",
    "from sklearn.model_selection import train_test_split\n",
    "from sklearn.model_selection import cross_val_score\n",
    "\n",
    "from sklearn.ensemble import RandomForestRegressor\n",
    "from sklearn.metrics import mean_absolute_error\n",
    "from sklearn.externals import joblib\n",
    "\n",
    "# Visualize the results\n",
    "import matplotlib.pyplot as plt\n",
    "%matplotlib inline"
   ]
  },
  {
   "cell_type": "code",
   "execution_count": 3,
   "metadata": {},
   "outputs": [],
   "source": [
    "# get the data\n",
    "X_full = pd.read_csv('train.csv')\n",
    "X_test_full = pd.read_csv('test.csv')\n",
    "\n",
    "# remove rows with missing target \n",
    "X_full.dropna(axis=0, subset=['SalePrice'], inplace=True)\n",
    "\n",
    "# seperate target from predictors\n",
    "y = X_full.SalePrice\n",
    "X_full.drop(['SalePrice'], axis=1, inplace = True)"
   ]
  },
  {
   "cell_type": "code",
   "execution_count": 5,
   "metadata": {},
   "outputs": [
    {
     "name": "stdout",
     "output_type": "stream",
     "text": [
      "['Id', 'MSSubClass', 'MSZoning', 'LotFrontage', 'LotArea', 'Street', 'LotShape', 'LandContour', 'Utilities', 'LotConfig', 'LandSlope', 'Neighborhood', 'Condition1', 'Condition2', 'BldgType', 'HouseStyle', 'OverallQual', 'OverallCond', 'YearBuilt', 'YearRemodAdd', 'RoofStyle', 'RoofMatl', 'Exterior1st', 'Exterior2nd', 'MasVnrType', 'MasVnrArea', 'ExterQual', 'ExterCond', 'Foundation', 'BsmtQual', 'BsmtCond', 'BsmtExposure', 'BsmtFinType1', 'BsmtFinSF1', 'BsmtFinType2', 'BsmtFinSF2', 'BsmtUnfSF', 'TotalBsmtSF', 'Heating', 'HeatingQC', 'CentralAir', 'Electrical', '1stFlrSF', '2ndFlrSF', 'LowQualFinSF', 'GrLivArea', 'BsmtFullBath', 'BsmtHalfBath', 'FullBath', 'HalfBath', 'BedroomAbvGr', 'KitchenAbvGr', 'KitchenQual', 'TotRmsAbvGrd', 'Functional', 'Fireplaces', 'GarageType', 'GarageYrBlt', 'GarageFinish', 'GarageCars', 'GarageArea', 'GarageQual', 'GarageCond', 'PavedDrive', 'WoodDeckSF', 'OpenPorchSF', 'EnclosedPorch', '3SsnPorch', 'ScreenPorch', 'PoolArea', 'MiscVal', 'MoSold', 'YrSold', 'SaleType', 'SaleCondition']\n"
     ]
    }
   ],
   "source": [
    "# remove columns with the most missing data\n",
    "keep_cols = [col for col in X_full.columns\n",
    "            if X_full[col].isnull().sum() < 300]\n",
    "print(keep_cols)"
   ]
  },
  {
   "cell_type": "code",
   "execution_count": 8,
   "metadata": {},
   "outputs": [],
   "source": [
    "# Keep columns with the least missing values\n",
    "X_train = X_full[keep_cols].copy()\n",
    "X_test = X_test_full[keep_cols].copy()"
   ]
  },
  {
   "cell_type": "code",
   "execution_count": 9,
   "metadata": {},
   "outputs": [],
   "source": [
    "# seperate numerical and categorical features\n",
    "numerical_cols = [col for col in X_train.columns\n",
    "                 if X_train[col].dtype in ['int64', 'float64']]\n",
    "\n",
    "categorical_cols = [col for col in X_train.columns\n",
    "                   if X_train[col].dtype == 'object']"
   ]
  },
  {
   "cell_type": "code",
   "execution_count": 13,
   "metadata": {},
   "outputs": [],
   "source": [
    "# get_score() function\n",
    "def get_score(n_estimators=100):\n",
    "    \n",
    "    # Transformers\n",
    "    numerical_transformer = SimpleImputer(strategy='median')\n",
    "    \n",
    "    categorcal_transformer = Pipeline(steps=[\n",
    "        ('impute', SimpleImputer(strategy='most_frequent')),\n",
    "        ('onehot', OneHotEncoder(handle_unknown='ignore'))\n",
    "    ])\n",
    "    \n",
    "    preprocessing = ColumnTransformer(transformers=[\n",
    "        ('numerical', numerical_transformer, numerical_cols),\n",
    "        ('categorical', categorcal_transformer, categorical_cols)\n",
    "    ])\n",
    "    \n",
    "    # the model\n",
    "    model = RandomForestRegressor(n_estimators=n_estimators, random_state=0)\n",
    "    \n",
    "    # bundl the model and preprocessing\n",
    "    my_pipeline = Pipeline(steps=[\n",
    "        ('preprocessing', preprocessing),\n",
    "        ('model', model)\n",
    "    ])\n",
    "    \n",
    "    scores = -1 * cross_val_score(my_pipeline, X_train, y, cv = 3,\n",
    "                                 scoring='neg_mean_absolute_error')\n",
    "    return scores.mean()"
   ]
  },
  {
   "cell_type": "code",
   "execution_count": 14,
   "metadata": {},
   "outputs": [],
   "source": [
    "# testing different parameters\n",
    "n_estimators = [i for i in range(50, 450, 50)]\n",
    "\n",
    "results = {i: get_score(i) for i in n_estimators}"
   ]
  },
  {
   "cell_type": "code",
   "execution_count": 16,
   "metadata": {},
   "outputs": [
    {
     "data": {
      "image/png": "[encoded data removed]",
      "text/plain": [
       "<Figure size 432x288 with 1 Axes>"
      ]
     },
     "metadata": {
      "needs_background": "light"
     },
     "output_type": "display_data"
    }
   ],
   "source": [
    "# Visualize the results\n",
    "import matplotlib.pyplot as plt\n",
    "%matplotlib inline\n",
    "\n",
    "plt.plot(results.keys(), results.values())\n",
    "plt.show()"
   ]
  },
  {
   "cell_type": "code",
   "execution_count": 17,
   "metadata": {},
   "outputs": [],
   "source": [
    "# Trying the best parameters, using old methods\n",
    "X_full = X_train\n",
    "X_train, X_valid, y_train, y_valid = train_test_split(X_full, y, test_size=.2,\n",
    "                                                     random_state=0)"
   ]
  },
  {
   "cell_type": "code",
   "execution_count": 18,
   "metadata": {},
   "outputs": [
    {
     "name": "stdout",
     "output_type": "stream",
     "text": [
      "MAE: 17448.4844109589\n"
     ]
    }
   ],
   "source": [
    "# the pipeline \n",
    "\n",
    "# transformers \n",
    "numerical_tansformer = SimpleImputer(strategy='median')\n",
    "\n",
    "categorical_transformer = Pipeline(steps=[\n",
    "    ('impute', SimpleImputer(strategy='most_frequent')),\n",
    "    ('onehot', OneHotEncoder(handle_unknown='ignore'))\n",
    "])\n",
    "\n",
    "# bundl transformers\n",
    "preprocessing = ColumnTransformer(transformers=[\n",
    "    ('numerical', numerical_tansformer, numerical_cols),\n",
    "    ('categorical', categorical_transformer, categorical_cols)\n",
    "])\n",
    "\n",
    "# the model\n",
    "model = RandomForestRegressor(n_estimators=250, random_state=0)\n",
    "\n",
    "# bundl preprocessing and model\n",
    "my_pipeline = Pipeline(steps=[\n",
    "    ('preprocessing', preprocessing),\n",
    "    ('model', model)\n",
    "])\n",
    "\n",
    "my_pipeline.fit(X_train, y_train)\n",
    "\n",
    "preds = my_pipeline.predict(X_valid)\n",
    "\n",
    "print('MAE:', mean_absolute_error(y_valid, preds))"
   ]
  },
  {
   "cell_type": "code",
   "execution_count": 19,
   "metadata": {},
   "outputs": [],
   "source": [
    "# Save and generate submission\n",
    "joblib.dump(my_pipeline, 'Models/rf_250_cv.pkl')\n",
    "\n",
    "preds_test = my_pipeline.predict(X_test)\n",
    "\n",
    "sample_submission = pd.read_csv('sample_submission.csv')\n",
    "output = pd.DataFrame({\n",
    "    'Id': sample_submission.Id,\n",
    "    'SalePrice': preds_test\n",
    "})\n",
    "\n",
    "output.to_csv('submission.csv', index=False)"
   ]
  },
  {
   "cell_type": "markdown",
   "metadata": {},
   "source": [
    "## Using columns with the most missing values too"
   ]
  },
  {
   "cell_type": "code",
   "execution_count": 4,
   "metadata": {},
   "outputs": [],
   "source": [
    "# get categorical and numerical columns for the full dataset\n",
    "numerical_cols_full = [col for col in X_full.columns \n",
    "                      if X_full[col].dtype in ['int64', 'float64']]\n",
    "\n",
    "categorical_cols_full = [col for col in X_full.columns\n",
    "                        if X_full[col].dtype == 'object']"
   ]
  },
  {
   "cell_type": "code",
   "execution_count": 9,
   "metadata": {},
   "outputs": [],
   "source": [
    "# redefine get_score()\n",
    "def get_score(X, y, n_estimators=100):\n",
    "    \n",
    "    # transformers \n",
    "    numerical_transformer = SimpleImputer(strategy='median')\n",
    "    \n",
    "    categorical_transformer = Pipeline(steps=[\n",
    "        ('impute', SimpleImputer(strategy='most_frequent')),\n",
    "        ('onehot', OneHotEncoder(handle_unknown='ignore'))\n",
    "    ])\n",
    "    \n",
    "    # bundl transformers\n",
    "    preprocessing = ColumnTransformer(transformers=[\n",
    "        ('numerical', numerical_transformer, numerical_cols_full),\n",
    "        ('categorical', categorical_transformer, categorical_cols_full)\n",
    "    ])\n",
    "    \n",
    "    # the model\n",
    "    model = RandomForestRegressor(n_estimators=n_estimators, random_state=0)\n",
    "    \n",
    "    # bundl preprocessing with model\n",
    "    my_pipeline = Pipeline(steps=[\n",
    "        ('preprocessing', preprocessing),\n",
    "        ('model', model)\n",
    "    ])\n",
    "    \n",
    "    scores = -1 * cross_val_score(my_pipeline, X, y, cv=3, scoring='neg_mean_absolute_error')\n",
    "    \n",
    "    return scores.mean()"
   ]
  },
  {
   "cell_type": "code",
   "execution_count": 10,
   "metadata": {},
   "outputs": [
    {
     "data": {
      "image/png": "[encoded data removed]",
      "text/plain": [
       "<Figure size 432x288 with 1 Axes>"
      ]
     },
     "metadata": {
      "needs_background": "light"
     },
     "output_type": "display_data"
    }
   ],
   "source": [
    "# get scores for the full dataset \n",
    "n_esimators = [i for i in range(50, 450, 50)]\n",
    "\n",
    "scores = {i: get_score(X_full, y, i) for i in n_esimators}\n",
    "\n",
    "plt.plot(scores.keys(), scores.values())\n",
    "plt.show()"
   ]
  },
  {
   "cell_type": "code",
   "execution_count": 11,
   "metadata": {},
   "outputs": [],
   "source": [
    "# Trying the best parameters, using old methods\n",
    "X_train, X_valid, y_train, y_valid = train_test_split(X_full, y, test_size=.2,\n",
    "                                                     random_state=0)"
   ]
  },
  {
   "cell_type": "code",
   "execution_count": 16,
   "metadata": {},
   "outputs": [
    {
     "name": "stdout",
     "output_type": "stream",
     "text": [
      "MAE: 17479.838664383562\n"
     ]
    }
   ],
   "source": [
    "# the pipeline \n",
    "\n",
    "# transformers \n",
    "numerical_tansformer = SimpleImputer(strategy='median')\n",
    "\n",
    "categorical_transformer = Pipeline(steps=[\n",
    "    ('impute', SimpleImputer(strategy='most_frequent')),\n",
    "    ('onehot', OneHotEncoder(handle_unknown='ignore'))\n",
    "])\n",
    "\n",
    "# bundl transformers\n",
    "preprocessing = ColumnTransformer(transformers=[\n",
    "    ('numerical', numerical_tansformer, numerical_cols_full),\n",
    "    ('categorical', categorical_transformer, categorical_cols_full)\n",
    "])\n",
    "\n",
    "# the model\n",
    "model = RandomForestRegressor(n_estimators=300, random_state=0)\n",
    "\n",
    "# bundl preprocessing and model\n",
    "my_pipeline = Pipeline(steps=[\n",
    "    ('preprocessing', preprocessing),\n",
    "    ('model', model)\n",
    "])\n",
    "\n",
    "my_pipeline.fit(X_train, y_train)\n",
    "\n",
    "preds = my_pipeline.predict(X_valid)\n",
    "\n",
    "print('MAE:', mean_absolute_error(y_valid, preds))"
   ]
  },
  {
   "cell_type": "code",
   "execution_count": 18,
   "metadata": {},
   "outputs": [],
   "source": [
    "# Save and generate submission\n",
    "joblib.dump(my_pipeline, 'Models/rf_300_cv_alldata.pkl')\n",
    "\n",
    "preds_test = my_pipeline.predict(X_test_full)\n",
    "\n",
    "sample_submission = pd.read_csv('sample_submission.csv')\n",
    "output = pd.DataFrame({\n",
    "    'Id': sample_submission.Id,\n",
    "    'SalePrice': preds_test\n",
    "})\n",
    "\n",
    "output.to_csv('submission.csv', index=False)"
   ]
  }
 ],
 "metadata": {
  "kernelspec": {
   "display_name": "Python 3",
   "language": "python",
   "name": "python3"
  },
  "language_info": {
   "codemirror_mode": {
    "name": "ipython",
    "version": 3
   },
   "file_extension": ".py",
   "mimetype": "text/x-python",
   "name": "python",
   "nbconvert_exporter": "python",
   "pygments_lexer": "ipython3",
   "version": "3.7.3"
  }
 },
 "nbformat": 4,
 "nbformat_minor": 2
}
