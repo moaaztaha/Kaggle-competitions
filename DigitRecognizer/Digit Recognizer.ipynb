{
 "cells": [
  {
   "cell_type": "markdown",
   "metadata": {},
   "source": [
    "# Create a valid Directory "
   ]
  },
  {
   "cell_type": "code",
   "execution_count": 1,
   "metadata": {},
   "outputs": [],
   "source": [
    "#PATH containing learn, test directories\n",
    "PATH = \"../../data/mnistasjpg/\""
   ]
  },
  {
   "cell_type": "code",
   "execution_count": 2,
   "metadata": {},
   "outputs": [
    {
     "name": "stdout",
     "output_type": "stream",
     "text": [
      "Size of class 0: 4132\n",
      "Size of valid: 826\n",
      "Size of class 1: 4684\n",
      "Size of valid: 936\n",
      "Size of class 2: 4177\n",
      "Size of valid: 835\n",
      "Size of class 3: 4351\n",
      "Size of valid: 870\n",
      "Size of class 4: 4072\n",
      "Size of valid: 814\n",
      "Size of class 5: 3795\n",
      "Size of valid: 759\n",
      "Size of class 6: 4137\n",
      "Size of valid: 827\n",
      "Size of class 7: 4401\n",
      "Size of valid: 880\n",
      "Size of class 8: 4063\n",
      "Size of valid: 812\n",
      "Size of class 9: 4188\n",
      "Size of valid: 837\n",
      "Done\n"
     ]
    }
   ],
   "source": [
    "'''import os\n",
    "from random import shuffle\n",
    "import shutil\n",
    "\n",
    "for folder in list(os.listdir(PATH)):\n",
    "    # Check if the train folder is available\n",
    "    if folder == 'train':\n",
    "        # Create the valid directory\n",
    "        os.mkdir(f\"{PATH}valid\")\n",
    "            \n",
    "        # list of classes\n",
    "        for Class in list(os.listdir(f\"{PATH}train\")):\n",
    "            filesList = os.listdir(f\"{PATH}train/{Class}\")\n",
    "            print(f\"Size of class {Class}:\", len(filesList))\n",
    "            p = 0.2\n",
    "            validSize = int(len(filesList)*p)\n",
    "            print(\"Size of valid:\", validSize)\n",
    "            # Shuffle the list of files\n",
    "            #shuffle(filesList)\n",
    "            validFiles = []\n",
    "            counter = 0\n",
    "            for file in filesList:\n",
    "                if counter < validSize:\n",
    "                    validFiles.append(file)\n",
    "                counter = counter+1\n",
    "            \n",
    "            # Create a new directory for each class\n",
    "            os.mkdir(f\"{PATH}valid/{Class}\")\n",
    "                \n",
    "            for file in validFiles:\n",
    "                shutil.move(f\"{PATH}train/{Class}/{file}\", f\"{PATH}valid/{Class}\")\n",
    "                \n",
    "print(\"Done\")"
   ]
  },
  {
   "cell_type": "code",
   "execution_count": 3,
   "metadata": {},
   "outputs": [],
   "source": [
    "%reload_ext autoreload\n",
    "%autoreload 2\n",
    "%matplotlib inline"
   ]
  },
  {
   "cell_type": "code",
   "execution_count": 4,
   "metadata": {},
   "outputs": [],
   "source": [
    "from fastai.imports import *\n",
    "from fastai.torch_imports import *\n",
    "from fastai.transforms import *\n",
    "from fastai.conv_learner import *\n",
    "from fastai.model import *\n",
    "from fastai.dataset import *\n",
    "from fastai.sgdr import *\n",
    "from fastai.plots import *"
   ]
  },
  {
   "cell_type": "code",
   "execution_count": 3,
   "metadata": {},
   "outputs": [
    {
     "name": "stdout",
     "output_type": "stream",
     "text": [
      "models\ttest  tmp  train  valid\r\n"
     ]
    }
   ],
   "source": [
    "# what's in our PATH?\n",
    "!ls {PATH}"
   ]
  },
  {
   "cell_type": "markdown",
   "metadata": {},
   "source": [
    "# Get a sample "
   ]
  },
  {
   "cell_type": "code",
   "execution_count": 6,
   "metadata": {
    "scrolled": true
   },
   "outputs": [
    {
     "data": {
      "text/plain": [
       "['img_1.jpg',\n",
       " 'img_10.jpg',\n",
       " 'img_100.jpg',\n",
       " 'img_1000.jpg',\n",
       " 'img_10000.jpg',\n",
       " 'img_10001.jpg',\n",
       " 'img_10002.jpg',\n",
       " 'img_10003.jpg',\n",
       " 'img_10004.jpg',\n",
       " 'img_10005.jpg']"
      ]
     },
     "execution_count": 6,
     "metadata": {},
     "output_type": "execute_result"
    }
   ],
   "source": [
    "images = (os.listdir(f'{PATH}test'))[:10]\n",
    "images"
   ]
  },
  {
   "cell_type": "code",
   "execution_count": 7,
   "metadata": {},
   "outputs": [
    {
     "data": {
      "text/plain": [
       "<matplotlib.image.AxesImage at 0x7fc4c33404a8>"
      ]
     },
     "execution_count": 7,
     "metadata": {},
     "output_type": "execute_result"
    },
    {
     "data": {
      "image/png": "[encoded data removed]",
      "text/plain": [
       "<Figure size 432x288 with 1 Axes>"
      ]
     },
     "metadata": {
      "needs_background": "light"
     },
     "output_type": "display_data"
    }
   ],
   "source": [
    "from random import shuffle\n",
    "shuffle(images)\n",
    "img = plt.imread(f'{PATH}test/{images[0]}')\n",
    "plt.imshow(img)"
   ]
  },
  {
   "cell_type": "markdown",
   "metadata": {},
   "source": [
    "# How computer see images? "
   ]
  },
  {
   "cell_type": "code",
   "execution_count": 8,
   "metadata": {},
   "outputs": [
    {
     "data": {
      "text/plain": [
       "array([[250, 255, 250, 247, 233, 255, 255, 254, 153,  10],\n",
       "       [254, 255, 220, 189, 226, 229, 249, 255, 212,  11],\n",
       "       [187, 106,  28,   0,  89, 255, 247, 255, 241,  15],\n",
       "       [141,   0,   1,  16, 124, 255, 250, 251, 247,  18],\n",
       "       [183,  47,  83, 130, 239, 252, 250, 253, 245,  19],\n",
       "       [250, 255, 245, 254, 255, 252, 251, 255, 247,  23],\n",
       "       [255, 247, 249, 250, 247, 255, 246, 255, 255,  23],\n",
       "       [176, 216, 215, 151,  74,  44, 255, 250, 251,  31],\n",
       "       [  4,   6,   8,   0,   0,  30, 255, 251, 247,  39],\n",
       "       [  0,   0,   1,   0,  13,  49, 244, 255, 253,  30]], dtype=uint8)"
      ]
     },
     "execution_count": 8,
     "metadata": {},
     "output_type": "execute_result"
    }
   ],
   "source": [
    "img[10:20, 10:20]"
   ]
  },
  {
   "cell_type": "code",
   "execution_count": 9,
   "metadata": {
    "scrolled": true
   },
   "outputs": [],
   "source": [
    "size = 24 # Size of image\n",
    "arch = resnet34 # The model used\n",
    "# Transformations\n",
    "tfms = tfms_from_model(arch, size) # Transforming the data\n",
    "data = ImageClassifierData.from_paths(PATH, tfms=tfms) # Reads the data and provides a dataset ready for use"
   ]
  },
  {
   "cell_type": "code",
   "execution_count": 10,
   "metadata": {},
   "outputs": [
    {
     "name": "stdout",
     "output_type": "stream",
     "text": [
      "100%|██████████| 526/526 [00:18<00:00, 28.08it/s]\n",
      "100%|██████████| 132/132 [00:04<00:00, 28.34it/s]\n"
     ]
    }
   ],
   "source": [
    "# Create the Learner(Model)\n",
    "learn = ConvLearner.pretrained(arch, data, precompute=True)"
   ]
  },
  {
   "cell_type": "code",
   "execution_count": 11,
   "metadata": {},
   "outputs": [
    {
     "data": {
      "application/vnd.jupyter.widget-view+json": {
       "model_id": "3d4f4413ea5e4ae0885d3a533d79c159",
       "version_major": 2,
       "version_minor": 0
      },
      "text/plain": [
       "HBox(children=(IntProgress(value=0, description='Epoch', max=3), HTML(value='')))"
      ]
     },
     "metadata": {},
     "output_type": "display_data"
    },
    {
     "name": "stdout",
     "output_type": "stream",
     "text": [
      "epoch      trn_loss   val_loss   accuracy                     \n",
      "    0      0.345961   0.228549   0.928537  \n",
      "    1      0.308242   0.184283   0.940924                     \n",
      "    2      0.264485   0.17465    0.943425                     \n",
      "\n"
     ]
    },
    {
     "data": {
      "text/plain": [
       "[0.17464951901790243, 0.9434254407428343]"
      ]
     },
     "execution_count": 11,
     "metadata": {},
     "output_type": "execute_result"
    }
   ],
   "source": [
    "learn.fit(0.01, 3) # Training with 3 epoches"
   ]
  },
  {
   "cell_type": "code",
   "execution_count": 12,
   "metadata": {},
   "outputs": [],
   "source": [
    "learn.precompute = False # Turn off precompute to use data augmentation"
   ]
  },
  {
   "cell_type": "code",
   "execution_count": 13,
   "metadata": {},
   "outputs": [
    {
     "data": {
      "application/vnd.jupyter.widget-view+json": {
       "model_id": "9f9244d74fe349178f12e712e02aee42",
       "version_major": 2,
       "version_minor": 0
      },
      "text/plain": [
       "HBox(children=(IntProgress(value=0, description='Epoch', max=5), HTML(value='')))"
      ]
     },
     "metadata": {},
     "output_type": "display_data"
    },
    {
     "name": "stdout",
     "output_type": "stream",
     "text": [
      "epoch      trn_loss   val_loss   accuracy                    \n",
      "    0      0.244232   0.158692   0.947832  \n",
      "    1      0.259274   0.160017   0.94819                     \n",
      "    2      0.228952   0.158064   0.950214                    \n",
      "    3      0.226351   0.14882    0.95081                     \n",
      "    4      0.229888   0.150213   0.952358                    \n",
      "\n"
     ]
    },
    {
     "data": {
      "text/plain": [
       "[0.15021305635976132, 0.95235826589767]"
      ]
     },
     "execution_count": 13,
     "metadata": {},
     "output_type": "execute_result"
    }
   ],
   "source": [
    "learn.fit(1e-2, 3, cycle_len=1) # Training with 3 epoches"
   ]
  },
  {
   "cell_type": "code",
   "execution_count": 14,
   "metadata": {},
   "outputs": [
    {
     "data": {
      "application/vnd.jupyter.widget-view+json": {
       "model_id": "11ab86394b84485baf30e5afbe4fe2f0",
       "version_major": 2,
       "version_minor": 0
      },
      "text/plain": [
       "HBox(children=(IntProgress(value=0, description='Epoch', max=7), HTML(value='')))"
      ]
     },
     "metadata": {},
     "output_type": "display_data"
    },
    {
     "name": "stdout",
     "output_type": "stream",
     "text": [
      "epoch      trn_loss   val_loss   accuracy                    \n",
      "    0      0.219438   0.144096   0.952596  \n",
      "    1      0.238587   0.137579   0.954979                    \n",
      "    2      0.255102   0.148747   0.95474                     \n",
      "    3      0.214474   0.142691   0.955693                    \n",
      "    4      0.207266   0.132641   0.956408                    \n",
      "    5      0.185441   0.134463   0.958909                    \n",
      "    6      0.202423   0.12889    0.957361                    \n",
      "\n"
     ]
    },
    {
     "data": {
      "text/plain": [
       "[0.12888986232906594, 0.9573606479559813]"
      ]
     },
     "execution_count": 14,
     "metadata": {},
     "output_type": "execute_result"
    }
   ],
   "source": [
    "# solve under fitting by giving the learner a longer look at the data\n",
    "learn.fit(1e-2, 3, cycle_len=1, cycle_mult= 2)# 3 cycles(each has 1 epoch) with mult = 1 + 2 + 4 = 7 epoches"
   ]
  },
  {
   "cell_type": "code",
   "execution_count": 15,
   "metadata": {},
   "outputs": [
    {
     "data": {
      "application/vnd.jupyter.widget-view+json": {
       "model_id": "18d7208d8461401ca881fae275c58e46",
       "version_major": 2,
       "version_minor": 0
      },
      "text/plain": [
       "HBox(children=(IntProgress(value=0, description='Epoch', max=1), HTML(value='')))"
      ]
     },
     "metadata": {},
     "output_type": "display_data"
    },
    {
     "name": "stdout",
     "output_type": "stream",
     "text": [
      " 76%|███████▌  | 401/526 [00:08<00:02, 50.24it/s, loss=0.613]\n",
      "                                                             \r"
     ]
    }
   ],
   "source": [
    "lrf = learn.lr_find() # Finding the best learning rate"
   ]
  },
  {
   "cell_type": "code",
   "execution_count": 16,
   "metadata": {},
   "outputs": [
    {
     "data": {
      "image/png": "[encoded data removed]",
      "text/plain": [
       "<Figure size 432x288 with 1 Axes>"
      ]
     },
     "metadata": {
      "needs_background": "light"
     },
     "output_type": "display_data"
    }
   ],
   "source": [
    "learn.sched.plot_lr()"
   ]
  },
  {
   "cell_type": "code",
   "execution_count": 17,
   "metadata": {},
   "outputs": [
    {
     "data": {
      "image/png": "[encoded data removed]",
      "text/plain": [
       "<Figure size 432x288 with 1 Axes>"
      ]
     },
     "metadata": {
      "needs_background": "light"
     },
     "output_type": "display_data"
    }
   ],
   "source": [
    "learn.sched.plot_loss()"
   ]
  },
  {
   "cell_type": "code",
   "execution_count": 18,
   "metadata": {},
   "outputs": [],
   "source": [
    "lr = 0.2"
   ]
  },
  {
   "cell_type": "code",
   "execution_count": 33,
   "metadata": {},
   "outputs": [
    {
     "data": {
      "application/vnd.jupyter.widget-view+json": {
       "model_id": "28b6b001cebf4bd29f19224ebfb9df1c",
       "version_major": 2,
       "version_minor": 0
      },
      "text/plain": [
       "HBox(children=(IntProgress(value=0, description='Epoch', max=15), HTML(value='')))"
      ]
     },
     "metadata": {},
     "output_type": "display_data"
    },
    {
     "name": "stdout",
     "output_type": "stream",
     "text": [
      "epoch      trn_loss   val_loss   accuracy                     \n",
      "    0      0.071708   0.042016   0.988209  \n",
      "    1      0.142131   0.042714   0.988685                     \n",
      "    2      0.119739   0.032085   0.990829                     \n",
      "    3      0.094377   0.079274   0.977966                     \n",
      "    4      0.165151   0.035825   0.989995                     \n",
      "    5      0.086933   0.034455   0.989162                     \n",
      "    6      0.116954   0.034041   0.990591                     \n",
      "    7      0.233049   0.164284   0.953907                     \n",
      "    8      0.111455   0.061149   0.984755                     \n",
      "    9      0.071401   0.046313   0.987018                     \n",
      "    10     0.122586   0.03299    0.990591                     \n",
      "    11     0.169626   0.033998   0.991544                     \n",
      "    12     0.106082   0.034749   0.991186                     \n",
      "    13     0.141186   0.031347   0.991305                     \n",
      "    14     0.08351    0.031658   0.991424                     \n",
      "\n"
     ]
    },
    {
     "data": {
      "text/plain": [
       "[0.0316583408293783, 0.9914244878513578]"
      ]
     },
     "execution_count": 33,
     "metadata": {},
     "output_type": "execute_result"
    }
   ],
   "source": [
    "learn.fit(lr, 3, cycle_len=1, cycle_mult=2)"
   ]
  },
  {
   "cell_type": "code",
   "execution_count": 20,
   "metadata": {},
   "outputs": [],
   "source": [
    "# Differential learning rates\n",
    "lrs = np.array([lr/9, lr/3, lr]) # Set a learning rate for each group of layers"
   ]
  },
  {
   "cell_type": "code",
   "execution_count": 21,
   "metadata": {},
   "outputs": [],
   "source": [
    "learn.unfreeze() #unfreeze the earlier layers to train instead of the last one only"
   ]
  },
  {
   "cell_type": "code",
   "execution_count": 22,
   "metadata": {},
   "outputs": [
    {
     "data": {
      "application/vnd.jupyter.widget-view+json": {
       "model_id": "7620470e01974ef2b37ae00693dc528d",
       "version_major": 2,
       "version_minor": 0
      },
      "text/plain": [
       "HBox(children=(IntProgress(value=0, description='Epoch', max=7), HTML(value='')))"
      ]
     },
     "metadata": {},
     "output_type": "display_data"
    },
    {
     "name": "stdout",
     "output_type": "stream",
     "text": [
      "epoch      trn_loss   val_loss   accuracy                     \n",
      "    0      0.142356   0.047213   0.985707  \n",
      "    1      0.086781   0.042012   0.988447                     \n",
      "    2      0.07959    0.029084   0.991782                     \n",
      "    3      0.227912   0.073193   0.979871                     \n",
      "    4      0.099006   0.034284   0.990829                     \n",
      "    5      0.028586   0.026074   0.991901                     \n",
      "    6      0.166515   0.023718   0.992973                     \n",
      "\n"
     ]
    },
    {
     "data": {
      "text/plain": [
       "[0.023718310430425868, 0.9929728442115293]"
      ]
     },
     "execution_count": 22,
     "metadata": {},
     "output_type": "execute_result"
    }
   ],
   "source": [
    "learn.fit(lrs, 3, cycle_len=1, cycle_mult=2)"
   ]
  },
  {
   "cell_type": "code",
   "execution_count": 4,
   "metadata": {},
   "outputs": [
    {
     "ename": "NameError",
     "evalue": "name 'learn' is not defined",
     "output_type": "error",
     "traceback": [
      "\u001b[0;31m---------------------------------------------------------------------------\u001b[0m",
      "\u001b[0;31mNameError\u001b[0m                                 Traceback (most recent call last)",
      "\u001b[0;32m<ipython-input-4-fe9d623b087e>\u001b[0m in \u001b[0;36m<module>\u001b[0;34m\u001b[0m\n\u001b[0;32m----> 1\u001b[0;31m \u001b[0mlearn\u001b[0m\u001b[0;34m.\u001b[0m\u001b[0msave\u001b[0m\u001b[0;34m(\u001b[0m\u001b[0;34m'All'\u001b[0m\u001b[0;34m)\u001b[0m \u001b[0;31m# Saving\u001b[0m\u001b[0;34m\u001b[0m\u001b[0m\n\u001b[0m",
      "\u001b[0;31mNameError\u001b[0m: name 'learn' is not defined"
     ]
    }
   ],
   "source": [
    "learn.save('All') # Saving "
   ]
  },
  {
   "cell_type": "code",
   "execution_count": 24,
   "metadata": {},
   "outputs": [],
   "source": [
    "learn.load('All') # Loading"
   ]
  },
  {
   "cell_type": "code",
   "execution_count": 25,
   "metadata": {},
   "outputs": [
    {
     "data": {
      "image/png": "[encoded data removed]",
      "text/plain": [
       "<Figure size 432x288 with 1 Axes>"
      ]
     },
     "metadata": {
      "needs_background": "light"
     },
     "output_type": "display_data"
    }
   ],
   "source": [
    "learn.sched.plot_lr() # The Change of Learning rate each cycle (SGDR)"
   ]
  },
  {
   "cell_type": "code",
   "execution_count": 26,
   "metadata": {},
   "outputs": [
    {
     "name": "stdout",
     "output_type": "stream",
     "text": [
      "                                             \r"
     ]
    }
   ],
   "source": [
    "log_preds, y = learn.TTA() # Test Time Augmentation, gives a better accuracy"
   ]
  },
  {
   "cell_type": "code",
   "execution_count": 27,
   "metadata": {},
   "outputs": [],
   "source": [
    "probs = np.mean(np.exp(log_preds), 0)"
   ]
  },
  {
   "cell_type": "markdown",
   "metadata": {},
   "source": [
    "# Accuracy "
   ]
  },
  {
   "cell_type": "code",
   "execution_count": 28,
   "metadata": {},
   "outputs": [
    {
     "data": {
      "text/plain": [
       "(0.9929728442115293, 0.023718375960983487)"
      ]
     },
     "execution_count": 28,
     "metadata": {},
     "output_type": "execute_result"
    }
   ],
   "source": [
    "accuracy_np(probs, y), metrics.log_loss(y, probs)"
   ]
  },
  {
   "cell_type": "code",
   "execution_count": 29,
   "metadata": {},
   "outputs": [],
   "source": [
    "# confusion matrix\n",
    "preds = np.argmax(probs, axis=1)\n",
    "probs = probs[:, 1]"
   ]
  },
  {
   "cell_type": "code",
   "execution_count": 30,
   "metadata": {},
   "outputs": [],
   "source": [
    "from sklearn.metrics import confusion_matrix\n",
    "cm = confusion_matrix(y, preds)"
   ]
  },
  {
   "cell_type": "code",
   "execution_count": 31,
   "metadata": {},
   "outputs": [
    {
     "name": "stdout",
     "output_type": "stream",
     "text": [
      "[[825   0   0   1   0   0   0   0   0   0]\n",
      " [  0 934   0   0   0   0   0   2   0   0]\n",
      " [  0   0 832   0   0   0   0   2   1   0]\n",
      " [  0   0   2 863   0   3   0   0   0   2]\n",
      " [  1   0   1   0 803   0   1   4   0   4]\n",
      " [  0   0   1   3   0 753   0   1   1   0]\n",
      " [  1   0   0   2   1   0 823   0   0   0]\n",
      " [  0   3   2   1   0   0   0 873   0   1]\n",
      " [  1   0   0   2   0   1   2   1 804   1]\n",
      " [  0   0   0   0   8   1   0   1   0 827]]\n"
     ]
    },
    {
     "data": {
      "image/png": "[encoded data removed]",
      "text/plain": [
       "<Figure size 432x288 with 2 Axes>"
      ]
     },
     "metadata": {
      "needs_background": "light"
     },
     "output_type": "display_data"
    }
   ],
   "source": [
    "plot_confusion_matrix(cm, data.classes) # True Labels VS predicted Labels"
   ]
  },
  {
   "cell_type": "code",
   "execution_count": null,
   "metadata": {},
   "outputs": [],
   "source": []
  }
 ],
 "metadata": {
  "kernelspec": {
   "display_name": "Python 3",
   "language": "python",
   "name": "python3"
  },
  "language_info": {
   "codemirror_mode": {
    "name": "ipython",
    "version": 3
   },
   "file_extension": ".py",
   "mimetype": "text/x-python",
   "name": "python",
   "nbconvert_exporter": "python",
   "pygments_lexer": "ipython3",
   "version": "3.6.6"
  }
 },
 "nbformat": 4,
 "nbformat_minor": 2
}
