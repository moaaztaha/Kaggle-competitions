{
 "cells": [
  {
   "cell_type": "markdown",
   "metadata": {},
   "source": [
    "# Create a valid Directory "
   ]
  },
  {
   "cell_type": "code",
   "execution_count": 1,
   "metadata": {},
   "outputs": [],
   "source": [
    "#PATH containing learn, test directories\n",
    "PATH = \"../../data/mnistasjpg/\""
   ]
  },
  {
   "cell_type": "code",
   "execution_count": 2,
   "metadata": {},
   "outputs": [
    {
     "name": "stdout",
     "output_type": "stream",
     "text": [
      "Size of class 0: 4132\n",
      "Size of valid: 826\n",
      "Size of class 1: 4684\n",
      "Size of valid: 936\n",
      "Size of class 2: 4177\n",
      "Size of valid: 835\n",
      "Size of class 3: 4351\n",
      "Size of valid: 870\n",
      "Size of class 4: 4072\n",
      "Size of valid: 814\n",
      "Size of class 5: 3795\n",
      "Size of valid: 759\n",
      "Size of class 6: 4137\n",
      "Size of valid: 827\n",
      "Size of class 7: 4401\n",
      "Size of valid: 880\n",
      "Size of class 8: 4063\n",
      "Size of valid: 812\n",
      "Size of class 9: 4188\n",
      "Size of valid: 837\n",
      "Done\n"
     ]
    }
   ],
   "source": [
    "'''import os\n",
    "from random import shuffle\n",
    "import shutil\n",
    "\n",
    "for folder in list(os.listdir(PATH)):\n",
    "    # Check if the train folder is available\n",
    "    if folder == 'train':\n",
    "        # Create the valid directory\n",
    "        os.mkdir(f\"{PATH}valid\")\n",
    "            \n",
    "        # list of classes\n",
    "        for Class in list(os.listdir(f\"{PATH}train\")):\n",
    "            filesList = os.listdir(f\"{PATH}train/{Class}\")\n",
    "            print(f\"Size of class {Class}:\", len(filesList))\n",
    "            p = 0.2\n",
    "            validSize = int(len(filesList)*p)\n",
    "            print(\"Size of valid:\", validSize)\n",
    "            # Shuffle the list of files\n",
    "            #shuffle(filesList)\n",
    "            validFiles = []\n",
    "            counter = 0\n",
    "            for file in filesList:\n",
    "                if counter < validSize:\n",
    "                    validFiles.append(file)\n",
    "                counter = counter+1\n",
    "            \n",
    "            # Create a new directory for each class\n",
    "            os.mkdir(f\"{PATH}valid/{Class}\")\n",
    "                \n",
    "            for file in validFiles:\n",
    "                shutil.move(f\"{PATH}train/{Class}/{file}\", f\"{PATH}valid/{Class}\")\n",
    "                \n",
    "print(\"Done\")"
   ]
  },
  {
   "cell_type": "code",
   "execution_count": 2,
   "metadata": {},
   "outputs": [],
   "source": [
    "%reload_ext autoreload\n",
    "%autoreload 2\n",
    "%matplotlib inline"
   ]
  },
  {
   "cell_type": "code",
   "execution_count": 3,
   "metadata": {},
   "outputs": [],
   "source": [
    "from fastai.imports import *\n",
    "from fastai.torch_imports import *\n",
    "from fastai.transforms import *\n",
    "from fastai.conv_learner import *\n",
    "from fastai.model import *\n",
    "from fastai.dataset import *\n",
    "from fastai.sgdr import *\n",
    "from fastai.plots import *"
   ]
  },
  {
   "cell_type": "code",
   "execution_count": 4,
   "metadata": {},
   "outputs": [
    {
     "name": "stdout",
     "output_type": "stream",
     "text": [
      "models\ttest  tmp  train  valid\r\n"
     ]
    }
   ],
   "source": [
    "# what's in our PATH?\n",
    "!ls {PATH}"
   ]
  },
  {
   "cell_type": "markdown",
   "metadata": {},
   "source": [
    "# Get a sample "
   ]
  },
  {
   "cell_type": "code",
   "execution_count": 5,
   "metadata": {
    "scrolled": true
   },
   "outputs": [
    {
     "data": {
      "text/plain": [
       "['img_1.jpg',\n",
       " 'img_10.jpg',\n",
       " 'img_100.jpg',\n",
       " 'img_1000.jpg',\n",
       " 'img_10000.jpg',\n",
       " 'img_10001.jpg',\n",
       " 'img_10002.jpg',\n",
       " 'img_10003.jpg',\n",
       " 'img_10004.jpg',\n",
       " 'img_10005.jpg']"
      ]
     },
     "execution_count": 5,
     "metadata": {},
     "output_type": "execute_result"
    }
   ],
   "source": [
    "images = (os.listdir(f'{PATH}test'))[:10]\n",
    "images"
   ]
  },
  {
   "cell_type": "code",
   "execution_count": 6,
   "metadata": {},
   "outputs": [
    {
     "data": {
      "text/plain": [
       "<matplotlib.image.AxesImage at 0x7f3ac4e81438>"
      ]
     },
     "execution_count": 6,
     "metadata": {},
     "output_type": "execute_result"
    },
    {
     "data": {
      "image/png": "[encoded data removed]",
      "text/plain": [
       "<Figure size 432x288 with 1 Axes>"
      ]
     },
     "metadata": {
      "needs_background": "light"
     },
     "output_type": "display_data"
    }
   ],
   "source": [
    "from random import shuffle\n",
    "shuffle(images)\n",
    "img = plt.imread(f'{PATH}test/{images[0]}')\n",
    "plt.imshow(img)"
   ]
  },
  {
   "cell_type": "markdown",
   "metadata": {},
   "source": [
    "# How computer see images? "
   ]
  },
  {
   "cell_type": "code",
   "execution_count": 7,
   "metadata": {},
   "outputs": [
    {
     "data": {
      "text/plain": [
       "array([[  2,   4,   0,  11,   0,   7,   6,   0,  75, 244],\n",
       "       [  0,   0,   0,   9,   0,   2,   0,   0,  34, 255],\n",
       "       [  0,  13,  11,   0,   0,   0,   6,  12,  99, 255],\n",
       "       [  0,   0,   5,   6,  11,   0,   0,  17, 184, 247],\n",
       "       [ 11,   0,  51,  94,  85,   5,   5,  25, 246, 246],\n",
       "       [182, 189, 237, 253, 252, 191, 190, 227, 243, 252],\n",
       "       [255, 244, 255, 255, 242, 251, 255, 240, 255, 255],\n",
       "       [229, 212, 242, 250, 255, 255, 248, 255, 253, 249],\n",
       "       [  0,  53, 196, 238, 255, 227, 238, 142, 109, 193],\n",
       "       [226, 213, 244, 251, 255, 239,  77,   0,   0,  20]], dtype=uint8)"
      ]
     },
     "execution_count": 7,
     "metadata": {},
     "output_type": "execute_result"
    }
   ],
   "source": [
    "img[10:20, 10:20]"
   ]
  },
  {
   "cell_type": "code",
   "execution_count": 8,
   "metadata": {
    "scrolled": true
   },
   "outputs": [],
   "source": [
    "size = 24 # Size of image\n",
    "arch = resnet34 # The model used\n",
    "# Transformations\n",
    "tfms = tfms_from_model(arch, size) # Transforming the data\n",
    "data = ImageClassifierData.from_paths(PATH, tfms=tfms) # Reads the data and provides a dataset ready for use"
   ]
  },
  {
   "cell_type": "code",
   "execution_count": 9,
   "metadata": {},
   "outputs": [],
   "source": [
    "# Create the Learner(Model)\n",
    "learn = ConvLearner.pretrained(arch, data, precompute=True)"
   ]
  },
  {
   "cell_type": "code",
   "execution_count": 10,
   "metadata": {},
   "outputs": [
    {
     "data": {
      "application/vnd.jupyter.widget-view+json": {
       "model_id": "3a7f7836ce124deeaed18bef32e2be06",
       "version_major": 2,
       "version_minor": 0
      },
      "text/plain": [
       "HBox(children=(IntProgress(value=0, description='Epoch', max=3), HTML(value='')))"
      ]
     },
     "metadata": {},
     "output_type": "display_data"
    },
    {
     "name": "stdout",
     "output_type": "stream",
     "text": [
      "epoch      trn_loss   val_loss   accuracy                     \n",
      "    0      0.350492   0.234742   0.928776  \n",
      "    1      0.275696   0.198058   0.937351                     \n",
      "    2      0.300548   0.177364   0.942949                     \n",
      "\n"
     ]
    },
    {
     "data": {
      "text/plain": [
       "[0.17736380209009553, 0.9429490233728465]"
      ]
     },
     "execution_count": 10,
     "metadata": {},
     "output_type": "execute_result"
    }
   ],
   "source": [
    "learn.fit(0.01, 3) # Training with 3 epoches"
   ]
  },
  {
   "cell_type": "code",
   "execution_count": 11,
   "metadata": {},
   "outputs": [],
   "source": [
    "learn.precompute = False # Turn off precompute to use data augmentation"
   ]
  },
  {
   "cell_type": "code",
   "execution_count": 12,
   "metadata": {},
   "outputs": [
    {
     "data": {
      "application/vnd.jupyter.widget-view+json": {
       "model_id": "1e0bc05d61214278b0f6f6971e590157",
       "version_major": 2,
       "version_minor": 0
      },
      "text/plain": [
       "HBox(children=(IntProgress(value=0, description='Epoch', max=3), HTML(value='')))"
      ]
     },
     "metadata": {},
     "output_type": "display_data"
    },
    {
     "name": "stdout",
     "output_type": "stream",
     "text": [
      "epoch      trn_loss   val_loss   accuracy                    \n",
      "    0      0.256006   0.16062    0.94676   \n",
      "    1      0.27008    0.160527   0.947594                    \n",
      "    2      0.23609    0.15646    0.950572                    \n",
      "\n"
     ]
    },
    {
     "data": {
      "text/plain": [
       "[0.15646038546256646, 0.9505717008383062]"
      ]
     },
     "execution_count": 12,
     "metadata": {},
     "output_type": "execute_result"
    }
   ],
   "source": [
    "learn.fit(1e-2, 3, cycle_len=1) # Training with 3 epoches"
   ]
  },
  {
   "cell_type": "code",
   "execution_count": 13,
   "metadata": {},
   "outputs": [
    {
     "data": {
      "application/vnd.jupyter.widget-view+json": {
       "model_id": "f9f966f982c74b7ea0b2de6707f31182",
       "version_major": 2,
       "version_minor": 0
      },
      "text/plain": [
       "HBox(children=(IntProgress(value=0, description='Epoch', max=7), HTML(value='')))"
      ]
     },
     "metadata": {},
     "output_type": "display_data"
    },
    {
     "name": "stdout",
     "output_type": "stream",
     "text": [
      "epoch      trn_loss   val_loss   accuracy                    \n",
      "    0      0.233691   0.149241   0.953073  \n",
      "    1      0.239414   0.150881   0.953311                    \n",
      "    2      0.218274   0.149048   0.953311                    \n",
      "    3      0.210244   0.144003   0.953788                    \n",
      "    4      0.205287   0.143123   0.957242                    \n",
      "    5      0.228036   0.134466   0.957242                    \n",
      "    6      0.189717   0.13776    0.957837                    \n",
      "\n"
     ]
    },
    {
     "data": {
      "text/plain": [
       "[0.13776026116688517, 0.9578370652975725]"
      ]
     },
     "execution_count": 13,
     "metadata": {},
     "output_type": "execute_result"
    }
   ],
   "source": [
    "# solve under fitting by giving the learner a longer look at the data\n",
    "learn.fit(1e-2, 3, cycle_len=1, cycle_mult= 2)# 3 cycles(each has 1 epoch) with mult = 1 + 2 + 4 = 7 epoches"
   ]
  },
  {
   "cell_type": "code",
   "execution_count": 14,
   "metadata": {},
   "outputs": [
    {
     "data": {
      "application/vnd.jupyter.widget-view+json": {
       "model_id": "b9f92a31cd734a8f894e17e2668e4e14",
       "version_major": 2,
       "version_minor": 0
      },
      "text/plain": [
       "HBox(children=(IntProgress(value=0, description='Epoch', max=1), HTML(value='')))"
      ]
     },
     "metadata": {},
     "output_type": "display_data"
    },
    {
     "name": "stdout",
     "output_type": "stream",
     "text": [
      " 76%|███████▌  | 401/526 [00:09<00:03, 33.86it/s, loss=0.608]\n",
      "                                                             \r"
     ]
    }
   ],
   "source": [
    "lrf = learn.lr_find() # Finding the best learning rate"
   ]
  },
  {
   "cell_type": "code",
   "execution_count": 15,
   "metadata": {},
   "outputs": [
    {
     "data": {
      "image/png": "[encoded data removed]",
      "text/plain": [
       "<Figure size 432x288 with 1 Axes>"
      ]
     },
     "metadata": {
      "needs_background": "light"
     },
     "output_type": "display_data"
    }
   ],
   "source": [
    "learn.sched.plot_lr()"
   ]
  },
  {
   "cell_type": "code",
   "execution_count": 16,
   "metadata": {},
   "outputs": [
    {
     "data": {
      "image/png": "[encoded data removed]",
      "text/plain": [
       "<Figure size 432x288 with 1 Axes>"
      ]
     },
     "metadata": {
      "needs_background": "light"
     },
     "output_type": "display_data"
    }
   ],
   "source": [
    "learn.sched.plot_loss()"
   ]
  },
  {
   "cell_type": "code",
   "execution_count": 17,
   "metadata": {},
   "outputs": [],
   "source": [
    "lr = 0.2"
   ]
  },
  {
   "cell_type": "code",
   "execution_count": 18,
   "metadata": {},
   "outputs": [
    {
     "data": {
      "application/vnd.jupyter.widget-view+json": {
       "model_id": "e7c6fd6808c24ed4b6f0d4a74cf2d15d",
       "version_major": 2,
       "version_minor": 0
      },
      "text/plain": [
       "HBox(children=(IntProgress(value=0, description='Epoch', max=7), HTML(value='')))"
      ]
     },
     "metadata": {},
     "output_type": "display_data"
    },
    {
     "name": "stdout",
     "output_type": "stream",
     "text": [
      "epoch      trn_loss   val_loss   accuracy                    \n",
      "    0      0.315687   0.178825   0.941996  \n",
      "    1      0.364787   0.183384   0.940924                    \n",
      "    2      0.218554   0.148181   0.949976                    \n",
      "    3      0.34752    0.240818   0.92425                     \n",
      "    4      0.290443   0.164779   0.947356                    \n",
      "    5      0.194982   0.13806    0.95343                     \n",
      "    6      0.196261   0.13165    0.95474                     \n",
      "\n"
     ]
    },
    {
     "data": {
      "text/plain": [
       "[0.13165028910798196, 0.9547403525772294]"
      ]
     },
     "execution_count": 18,
     "metadata": {},
     "output_type": "execute_result"
    }
   ],
   "source": [
    "learn.fit(lr, 3, cycle_len=1, cycle_mult=2)"
   ]
  },
  {
   "cell_type": "code",
   "execution_count": 19,
   "metadata": {},
   "outputs": [],
   "source": [
    "# Differential learning rates\n",
    "lrs = np.array([lr/9, lr/3, lr]) # Set a learning rate for each group of layers"
   ]
  },
  {
   "cell_type": "code",
   "execution_count": 20,
   "metadata": {},
   "outputs": [],
   "source": [
    "learn.unfreeze() #unfreeze the earlier layers to train instead of the last one only"
   ]
  },
  {
   "cell_type": "code",
   "execution_count": 21,
   "metadata": {},
   "outputs": [
    {
     "data": {
      "application/vnd.jupyter.widget-view+json": {
       "model_id": "43e29b17a0cb42d189e091623d8afece",
       "version_major": 2,
       "version_minor": 0
      },
      "text/plain": [
       "HBox(children=(IntProgress(value=0, description='Epoch', max=7), HTML(value='')))"
      ]
     },
     "metadata": {},
     "output_type": "display_data"
    },
    {
     "name": "stdout",
     "output_type": "stream",
     "text": [
      "epoch      trn_loss   val_loss   accuracy                     \n",
      "    0      0.184628   0.048925   0.985946  \n",
      "    1      0.12096    0.052976   0.983444                     \n",
      "    2      0.099839   0.037996   0.989042                     \n",
      "    3      0.211947   0.069372   0.983206                     \n",
      "    4      0.099453   0.03877    0.988804                     \n",
      "    5      0.108377   0.028706   0.992139                     \n",
      "    6      0.170596   0.03141    0.991901                     \n",
      "\n"
     ]
    },
    {
     "data": {
      "text/plain": [
       "[0.03140996108980776, 0.991900905192949]"
      ]
     },
     "execution_count": 21,
     "metadata": {},
     "output_type": "execute_result"
    }
   ],
   "source": [
    "learn.fit(lrs, 3, cycle_len=1, cycle_mult=2)"
   ]
  },
  {
   "cell_type": "code",
   "execution_count": 22,
   "metadata": {},
   "outputs": [],
   "source": [
    "learn.save('All') # Saving "
   ]
  },
  {
   "cell_type": "code",
   "execution_count": 23,
   "metadata": {},
   "outputs": [],
   "source": [
    "learn.load('All') # Loading"
   ]
  },
  {
   "cell_type": "code",
   "execution_count": 24,
   "metadata": {},
   "outputs": [
    {
     "data": {
      "image/png": "[encoded data removed]",
      "text/plain": [
       "<Figure size 432x288 with 1 Axes>"
      ]
     },
     "metadata": {
      "needs_background": "light"
     },
     "output_type": "display_data"
    }
   ],
   "source": [
    "learn.sched.plot_lr() # The Change of Learning rate each cycle (SGDR)"
   ]
  },
  {
   "cell_type": "code",
   "execution_count": 25,
   "metadata": {},
   "outputs": [
    {
     "name": "stdout",
     "output_type": "stream",
     "text": [
      "                                             \r"
     ]
    }
   ],
   "source": [
    "log_preds, y = learn.TTA() # Test Time Augmentation, gives a better accuracy"
   ]
  },
  {
   "cell_type": "code",
   "execution_count": 26,
   "metadata": {},
   "outputs": [],
   "source": [
    "probs = np.mean(np.exp(log_preds), 0)"
   ]
  },
  {
   "cell_type": "markdown",
   "metadata": {},
   "source": [
    "# Accuracy "
   ]
  },
  {
   "cell_type": "code",
   "execution_count": 27,
   "metadata": {},
   "outputs": [
    {
     "data": {
      "text/plain": [
       "(0.991900905192949, 0.0314100310204471)"
      ]
     },
     "execution_count": 27,
     "metadata": {},
     "output_type": "execute_result"
    }
   ],
   "source": [
    "accuracy_np(probs, y), metrics.log_loss(y, probs)"
   ]
  },
  {
   "cell_type": "code",
   "execution_count": 28,
   "metadata": {},
   "outputs": [],
   "source": [
    "# confusion matrix\n",
    "preds = np.argmax(probs, axis=1)\n",
    "probs = probs[:, 1]"
   ]
  },
  {
   "cell_type": "code",
   "execution_count": 29,
   "metadata": {},
   "outputs": [],
   "source": [
    "from sklearn.metrics import confusion_matrix\n",
    "cm = confusion_matrix(y, preds)"
   ]
  },
  {
   "cell_type": "code",
   "execution_count": 30,
   "metadata": {},
   "outputs": [
    {
     "name": "stdout",
     "output_type": "stream",
     "text": [
      "[[824   0   0   1   0   0   0   1   0   0]\n",
      " [  0 934   0   0   0   0   0   2   0   0]\n",
      " [  0   1 828   1   1   0   0   2   1   1]\n",
      " [  0   0   0 864   0   2   0   0   3   1]\n",
      " [  0   0   0   0 805   0   3   3   0   3]\n",
      " [  0   0   1   3   0 753   0   0   2   0]\n",
      " [  1   0   1   0   3   3 814   0   5   0]\n",
      " [  0   1   1   1   0   0   0 877   0   0]\n",
      " [  1   1   1   2   2   1   0   1 802   1]\n",
      " [  0   0   0   0   6   2   0   1   1 827]]\n"
     ]
    },
    {
     "data": {
      "image/png": "[encoded data removed]",
      "text/plain": [
       "<Figure size 432x288 with 2 Axes>"
      ]
     },
     "metadata": {
      "needs_background": "light"
     },
     "output_type": "display_data"
    }
   ],
   "source": [
    "plot_confusion_matrix(cm, data.classes) # True Labels VS predicted Labels"
   ]
  }
 ],
 "metadata": {
  "kernelspec": {
   "display_name": "Python 3",
   "language": "python",
   "name": "python3"
  },
  "language_info": {
   "codemirror_mode": {
    "name": "ipython",
    "version": 3
   },
   "file_extension": ".py",
   "mimetype": "text/x-python",
   "name": "python",
   "nbconvert_exporter": "python",
   "pygments_lexer": "ipython3",
   "version": "3.6.6"
  }
 },
 "nbformat": 4,
 "nbformat_minor": 2
}
