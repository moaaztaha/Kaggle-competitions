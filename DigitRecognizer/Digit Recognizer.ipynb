{
 "cells": [
  {
   "cell_type": "markdown",
   "metadata": {},
   "source": [
    "# Create a valid Directory "
   ]
  },
  {
   "cell_type": "code",
   "execution_count": 1,
   "metadata": {},
   "outputs": [],
   "source": [
    "#PATH containing learn, test directories\n",
    "PATH = \"../../data/mnistasjpg1/\""
   ]
  },
  {
   "cell_type": "code",
   "execution_count": 2,
   "metadata": {},
   "outputs": [
    {
     "name": "stdout",
     "output_type": "stream",
     "text": [
      "valid already exists\n",
      "Done\n"
     ]
    }
   ],
   "source": [
    "import os\n",
    "from random import shuffle\n",
    "import shutil\n",
    "\n",
    "valid = False\n",
    "for folder in list(os.listdir(PATH)):\n",
    "    if folder == 'valid':\n",
    "        valid = True\n",
    "        \n",
    "for folder in list(os.listdir(PATH)):\n",
    "    #check if the valid folder is available\n",
    "    if valid == True: \n",
    "        print(\"valid already exists\")\n",
    "        break;\n",
    "    # Check if the train folder is available\n",
    "    if folder == 'train':\n",
    "        # Create the valid directory\n",
    "        os.mkdir(f\"{PATH}valid\")\n",
    "            \n",
    "        # list of classes\n",
    "        for Class in list(os.listdir(f\"{PATH}train\")):\n",
    "            filesList = os.listdir(f\"{PATH}train/{Class}\")\n",
    "            print(f\"Size of class {Class}:\", len(filesList))\n",
    "            p = 0.2\n",
    "            validSize = int(len(filesList)*p)\n",
    "            print(\"Size of valid:\", validSize)\n",
    "            # Shuffle the list of files\n",
    "            #shuffle(filesList)\n",
    "            validFiles = []\n",
    "            counter = 0\n",
    "            for file in filesList:\n",
    "                if counter < validSize:\n",
    "                    validFiles.append(file)\n",
    "                counter = counter+1\n",
    "            \n",
    "            # Create a new directory for each class\n",
    "            os.mkdir(f\"{PATH}valid/{Class}\")\n",
    "                \n",
    "            for file in validFiles:\n",
    "                shutil.move(f\"{PATH}train/{Class}/{file}\", f\"{PATH}valid/{Class}\")\n",
    "                \n",
    "print(\"Done\")"
   ]
  },
  {
   "cell_type": "markdown",
   "metadata": {},
   "source": [
    "# Start "
   ]
  },
  {
   "cell_type": "code",
   "execution_count": 3,
   "metadata": {},
   "outputs": [],
   "source": [
    "%reload_ext autoreload\n",
    "%autoreload 2\n",
    "%matplotlib inline"
   ]
  },
  {
   "cell_type": "code",
   "execution_count": 4,
   "metadata": {},
   "outputs": [],
   "source": [
    "from fastai.imports import *\n",
    "from fastai.torch_imports import *\n",
    "from fastai.transforms import *\n",
    "from fastai.conv_learner import *\n",
    "from fastai.model import *\n",
    "from fastai.dataset import *\n",
    "from fastai.sgdr import *\n",
    "from fastai.plots import *"
   ]
  },
  {
   "cell_type": "code",
   "execution_count": 5,
   "metadata": {},
   "outputs": [
    {
     "name": "stdout",
     "output_type": "stream",
     "text": [
      "models\ttestSet.tar.gz\ttrain\t\t    Untitled.ipynb\r\n",
      "test\ttmp\t\ttrainingSet.tar.gz  valid\r\n"
     ]
    }
   ],
   "source": [
    "# what's in our PATH?\n",
    "!ls {PATH}"
   ]
  },
  {
   "cell_type": "markdown",
   "metadata": {},
   "source": [
    "# Get a sample "
   ]
  },
  {
   "cell_type": "code",
   "execution_count": 6,
   "metadata": {
    "scrolled": true
   },
   "outputs": [
    {
     "data": {
      "text/plain": [
       "['img_1.jpg',\n",
       " 'img_10.jpg',\n",
       " 'img_100.jpg',\n",
       " 'img_1000.jpg',\n",
       " 'img_10000.jpg',\n",
       " 'img_10001.jpg',\n",
       " 'img_10002.jpg',\n",
       " 'img_10003.jpg',\n",
       " 'img_10004.jpg',\n",
       " 'img_10005.jpg']"
      ]
     },
     "execution_count": 6,
     "metadata": {},
     "output_type": "execute_result"
    }
   ],
   "source": [
    "images = (os.listdir(f'{PATH}test'))[:10]\n",
    "images"
   ]
  },
  {
   "cell_type": "code",
   "execution_count": 7,
   "metadata": {},
   "outputs": [
    {
     "data": {
      "text/plain": [
       "<matplotlib.image.AxesImage at 0x7f81cb985240>"
      ]
     },
     "execution_count": 7,
     "metadata": {},
     "output_type": "execute_result"
    },
    {
     "data": {
      "image/png": "[encoded data removed]",
      "text/plain": [
       "<Figure size 432x288 with 1 Axes>"
      ]
     },
     "metadata": {
      "needs_background": "light"
     },
     "output_type": "display_data"
    }
   ],
   "source": [
    "from random import shuffle\n",
    "shuffle(images)\n",
    "img = plt.imread(f'{PATH}test/{images[0]}')\n",
    "plt.imshow(img)"
   ]
  },
  {
   "cell_type": "markdown",
   "metadata": {},
   "source": [
    "# How computer see images? "
   ]
  },
  {
   "cell_type": "code",
   "execution_count": 8,
   "metadata": {},
   "outputs": [
    {
     "data": {
      "text/plain": [
       "array([[  4, 136, 246, 255, 255, 248,  69,  14,   0,   0],\n",
       "       [131, 246, 255, 233, 183,  10,  13,   5,   5,   0],\n",
       "       [239, 253, 187,  23,  20,  10,   0,   0,   0,   0],\n",
       "       [255, 165,  32,  10,   0,   0,   6,   0,   1,  15],\n",
       "       [251,  81,   0,   0,   4,   0,   0,   7,   0,   0],\n",
       "       [185,  12,   3,   3,   0,   4,   0,  13,   0, 100],\n",
       "       [100,   0,   0,   6,   8,   0,   4,  24,  62, 241],\n",
       "       [  4,   8,   2,   0,   0,  10,  20, 175, 255, 233],\n",
       "       [  0,   0,  17,   2,  19, 105, 245, 251, 204,  91],\n",
       "       [  4,   0,  13,  79, 224, 255, 213, 104,  25,   0]], dtype=uint8)"
      ]
     },
     "execution_count": 8,
     "metadata": {},
     "output_type": "execute_result"
    }
   ],
   "source": [
    "img[10:20, 10:20]"
   ]
  },
  {
   "cell_type": "code",
   "execution_count": 9,
   "metadata": {
    "scrolled": true
   },
   "outputs": [],
   "source": [
    "size = 28 # Size of image\n",
    "arch = resnet34 # The model used\n",
    "# Transformations\n",
    "tfms = tfms_from_model(arch, size, aug_tfms=transforms_basic) # Transforming the data\n",
    "data = ImageClassifierData.from_paths(PATH, tfms=tfms) # Reads the data and provides a dataset ready for use"
   ]
  },
  {
   "cell_type": "code",
   "execution_count": 10,
   "metadata": {},
   "outputs": [
    {
     "data": {
      "text/plain": [
       "['0', '1', '2', '3', '4', '5', '6', '7', '8', '9']"
      ]
     },
     "execution_count": 10,
     "metadata": {},
     "output_type": "execute_result"
    }
   ],
   "source": [
    "data.classes"
   ]
  },
  {
   "cell_type": "code",
   "execution_count": 11,
   "metadata": {},
   "outputs": [],
   "source": [
    "# Create the Learner(Model)\n",
    "learn = ConvLearner.pretrained(arch, data, precompute=True)"
   ]
  },
  {
   "cell_type": "code",
   "execution_count": 12,
   "metadata": {},
   "outputs": [
    {
     "data": {
      "application/vnd.jupyter.widget-view+json": {
       "model_id": "4fb41127f02a432f951962734b3113ff",
       "version_major": 2,
       "version_minor": 0
      },
      "text/plain": [
       "HBox(children=(IntProgress(value=0, description='Epoch', max=3), HTML(value='')))"
      ]
     },
     "metadata": {},
     "output_type": "display_data"
    },
    {
     "name": "stdout",
     "output_type": "stream",
     "text": [
      "epoch      trn_loss   val_loss   accuracy                     \n",
      "    0      0.419888   0.224286   0.931158  \n",
      "    1      0.342952   0.181333   0.94152                      \n",
      "    2      0.283241   0.173157   0.943306                     \n",
      "\n"
     ]
    },
    {
     "data": {
      "text/plain": [
       "[0.1731565228852844, 0.9433063363790398]"
      ]
     },
     "execution_count": 12,
     "metadata": {},
     "output_type": "execute_result"
    }
   ],
   "source": [
    "learn.fit(0.01, 3) # Training with 3 epoches"
   ]
  },
  {
   "cell_type": "code",
   "execution_count": 13,
   "metadata": {},
   "outputs": [],
   "source": [
    "learn.precompute = False # Turn off precompute to use data augmentation"
   ]
  },
  {
   "cell_type": "code",
   "execution_count": 14,
   "metadata": {},
   "outputs": [
    {
     "data": {
      "application/vnd.jupyter.widget-view+json": {
       "model_id": "486037a57d8b40c7b4e958eafa6b8b40",
       "version_major": 2,
       "version_minor": 0
      },
      "text/plain": [
       "HBox(children=(IntProgress(value=0, description='Epoch', max=3), HTML(value='')))"
      ]
     },
     "metadata": {},
     "output_type": "display_data"
    },
    {
     "name": "stdout",
     "output_type": "stream",
     "text": [
      "epoch      trn_loss   val_loss   accuracy                    \n",
      "    0      0.277207   0.163513   0.947118  \n",
      "    1      0.287341   0.16205    0.947951                    \n",
      "    2      0.271832   0.155472   0.949023                    \n",
      "\n"
     ]
    },
    {
     "data": {
      "text/plain": [
       "[0.15547160912889024, 0.9490233445065314]"
      ]
     },
     "execution_count": 14,
     "metadata": {},
     "output_type": "execute_result"
    }
   ],
   "source": [
    "learn.fit(1e-2, 3, cycle_len=1) # Training with 3 epoches"
   ]
  },
  {
   "cell_type": "code",
   "execution_count": 15,
   "metadata": {},
   "outputs": [
    {
     "data": {
      "application/vnd.jupyter.widget-view+json": {
       "model_id": "4802bb4706f243388a24a545b6454e39",
       "version_major": 2,
       "version_minor": 0
      },
      "text/plain": [
       "HBox(children=(IntProgress(value=0, description='Epoch', max=7), HTML(value='')))"
      ]
     },
     "metadata": {},
     "output_type": "display_data"
    },
    {
     "name": "stdout",
     "output_type": "stream",
     "text": [
      "epoch      trn_loss   val_loss   accuracy                    \n",
      "    0      0.282788   0.156602   0.948785  \n",
      "    1      0.244086   0.152879   0.949262                    \n",
      "    2      0.27182    0.147022   0.952716                    \n",
      "    3      0.283931   0.147069   0.952954                    \n",
      "    4      0.256321   0.138928   0.953668                    \n",
      "    5      0.244295   0.141736   0.951882                    \n",
      "    6      0.228492   0.135583   0.957122                    \n",
      "\n"
     ]
    },
    {
     "data": {
      "text/plain": [
       "[0.13558276977324382, 0.9571224393135823]"
      ]
     },
     "execution_count": 15,
     "metadata": {},
     "output_type": "execute_result"
    }
   ],
   "source": [
    "# solve under fitting by giving the learner a longer look at the data\n",
    "learn.fit(1e-2, 3, cycle_len=1, cycle_mult= 2)# 3 cycles(each has 1 epoch) with mult = 1 + 2 + 4 = 7 epoches"
   ]
  },
  {
   "cell_type": "code",
   "execution_count": 16,
   "metadata": {
    "scrolled": true
   },
   "outputs": [
    {
     "data": {
      "application/vnd.jupyter.widget-view+json": {
       "model_id": "54f8bbfe9de4453bacb4bbc6bd9c6b3e",
       "version_major": 2,
       "version_minor": 0
      },
      "text/plain": [
       "HBox(children=(IntProgress(value=0, description='Epoch', max=1), HTML(value='')))"
      ]
     },
     "metadata": {},
     "output_type": "display_data"
    },
    {
     "name": "stdout",
     "output_type": "stream",
     "text": [
      " 77%|███████▋  | 405/526 [00:10<00:03, 33.67it/s, loss=0.753]"
     ]
    }
   ],
   "source": [
    "lrf = learn.lr_find() # Finding the best learning rate"
   ]
  },
  {
   "cell_type": "code",
   "execution_count": 17,
   "metadata": {},
   "outputs": [
    {
     "data": {
      "image/png": "[encoded data removed]",
      "text/plain": [
       "<Figure size 432x288 with 1 Axes>"
      ]
     },
     "metadata": {
      "needs_background": "light"
     },
     "output_type": "display_data"
    }
   ],
   "source": [
    "learn.sched.plot_lr()"
   ]
  },
  {
   "cell_type": "code",
   "execution_count": 18,
   "metadata": {},
   "outputs": [
    {
     "data": {
      "image/png": "[encoded data removed]",
      "text/plain": [
       "<Figure size 432x288 with 1 Axes>"
      ]
     },
     "metadata": {
      "needs_background": "light"
     },
     "output_type": "display_data"
    }
   ],
   "source": [
    "learn.sched.plot_loss()"
   ]
  },
  {
   "cell_type": "code",
   "execution_count": 19,
   "metadata": {},
   "outputs": [
    {
     "data": {
      "text/plain": [
       "0.01"
      ]
     },
     "execution_count": 19,
     "metadata": {},
     "output_type": "execute_result"
    }
   ],
   "source": [
    "lr = 1e-2; lr"
   ]
  },
  {
   "cell_type": "code",
   "execution_count": 20,
   "metadata": {},
   "outputs": [
    {
     "data": {
      "application/vnd.jupyter.widget-view+json": {
       "model_id": "6c6334f430bc4c2983f069936427a191",
       "version_major": 2,
       "version_minor": 0
      },
      "text/plain": [
       "HBox(children=(IntProgress(value=0, description='Epoch', max=7), HTML(value='')))"
      ]
     },
     "metadata": {},
     "output_type": "display_data"
    },
    {
     "name": "stdout",
     "output_type": "stream",
     "text": [
      "epoch      trn_loss   val_loss   accuracy                    \n",
      "    0      0.249524   0.135771   0.955574  \n",
      "    1      0.222892   0.144002   0.953668                    \n",
      "    2      0.274865   0.137411   0.954621                    \n",
      "    3      0.260552   0.141605   0.955217                    \n",
      "    4      0.248417   0.130475   0.956408                    \n",
      "    5      0.267781   0.127809   0.958671                    \n",
      "    6      0.193512   0.128279   0.957718                    \n"
     ]
    },
    {
     "data": {
      "text/plain": [
       "[0.12827905842864895, 0.9577179609905714]"
      ]
     },
     "execution_count": 20,
     "metadata": {},
     "output_type": "execute_result"
    }
   ],
   "source": [
    "learn.fit(lr, 3, cycle_len=1, cycle_mult=2)"
   ]
  },
  {
   "cell_type": "code",
   "execution_count": 21,
   "metadata": {},
   "outputs": [],
   "source": [
    "# Differential learning rates\n",
    "lrs = np.array([lr/9, lr/3, lr]) # Set a learning rate for each group of layers"
   ]
  },
  {
   "cell_type": "code",
   "execution_count": 22,
   "metadata": {},
   "outputs": [],
   "source": [
    "learn.unfreeze() #unfreeze the earlier layers to train instead of the last one only"
   ]
  },
  {
   "cell_type": "code",
   "execution_count": 23,
   "metadata": {},
   "outputs": [
    {
     "data": {
      "application/vnd.jupyter.widget-view+json": {
       "model_id": "1ff144f74fb646768646004e41c8f0a5",
       "version_major": 2,
       "version_minor": 0
      },
      "text/plain": [
       "HBox(children=(IntProgress(value=0, description='Epoch', max=7), HTML(value='')))"
      ]
     },
     "metadata": {},
     "output_type": "display_data"
    },
    {
     "name": "stdout",
     "output_type": "stream",
     "text": [
      "epoch      trn_loss   val_loss   accuracy                     \n",
      "    0      0.169999   0.054598   0.984636  \n",
      "    1      0.121447   0.043092   0.987851                     \n",
      "    2      0.1025     0.03197    0.990233                     \n",
      "    3      0.115372   0.038345   0.988923                     \n",
      "    4      0.036802   0.029696   0.992139                     \n",
      "    5      0.079188   0.026716   0.992735                     \n",
      "    6      0.067888   0.026073   0.992377                     \n"
     ]
    },
    {
     "data": {
      "text/plain": [
       "[0.026072505176450708, 0.9923773225345403]"
      ]
     },
     "execution_count": 23,
     "metadata": {},
     "output_type": "execute_result"
    }
   ],
   "source": [
    "learn.fit(lrs, 3, cycle_len=1, cycle_mult=2)"
   ]
  },
  {
   "cell_type": "code",
   "execution_count": 24,
   "metadata": {},
   "outputs": [],
   "source": [
    "learn.save('All') # Saving "
   ]
  },
  {
   "cell_type": "code",
   "execution_count": 25,
   "metadata": {},
   "outputs": [],
   "source": [
    "learn.load('All') # Loading"
   ]
  },
  {
   "cell_type": "code",
   "execution_count": 26,
   "metadata": {
    "scrolled": true
   },
   "outputs": [
    {
     "data": {
      "image/png": "[encoded data removed]",
      "text/plain": [
       "<Figure size 432x288 with 1 Axes>"
      ]
     },
     "metadata": {
      "needs_background": "light"
     },
     "output_type": "display_data"
    }
   ],
   "source": [
    "learn.sched.plot_lr() # The Change of Learning rate each cycle (SGDR)"
   ]
  },
  {
   "cell_type": "code",
   "execution_count": 27,
   "metadata": {},
   "outputs": [
    {
     "name": "stdout",
     "output_type": "stream",
     "text": [
      "                                             \r"
     ]
    }
   ],
   "source": [
    "log_preds, y = learn.TTA() # Test Time Augmentation, gives a better accuracy"
   ]
  },
  {
   "cell_type": "code",
   "execution_count": 28,
   "metadata": {},
   "outputs": [],
   "source": [
    "probs = np.mean(np.exp(log_preds), 0)"
   ]
  },
  {
   "cell_type": "markdown",
   "metadata": {},
   "source": [
    "# Accuracy "
   ]
  },
  {
   "cell_type": "code",
   "execution_count": 29,
   "metadata": {},
   "outputs": [
    {
     "data": {
      "text/plain": [
       "(0.9924964268699381, 0.024906631818477964)"
      ]
     },
     "execution_count": 29,
     "metadata": {},
     "output_type": "execute_result"
    }
   ],
   "source": [
    "accuracy_np(probs, y), metrics.log_loss(y, probs)"
   ]
  },
  {
   "cell_type": "code",
   "execution_count": 30,
   "metadata": {},
   "outputs": [],
   "source": [
    "# confusion matrix\n",
    "preds = np.argmax(probs, axis=1)\n",
    "probs = probs[:, 1]"
   ]
  },
  {
   "cell_type": "code",
   "execution_count": 31,
   "metadata": {},
   "outputs": [],
   "source": [
    "from sklearn.metrics import confusion_matrix\n",
    "cm = confusion_matrix(y, preds)"
   ]
  },
  {
   "cell_type": "code",
   "execution_count": 32,
   "metadata": {},
   "outputs": [
    {
     "name": "stdout",
     "output_type": "stream",
     "text": [
      "[[824   0   0   0   0   0   0   1   1   0]\n",
      " [  0 934   0   0   0   0   0   2   0   0]\n",
      " [  0   0 829   0   0   0   0   4   2   0]\n",
      " [  0   1   1 865   0   2   0   0   0   1]\n",
      " [  0   2   0   0 799   0   1   6   1   5]\n",
      " [  1   0   0   4   0 753   0   0   1   0]\n",
      " [  1   1   1   0   1   0 822   0   1   0]\n",
      " [  0   3   1   0   1   0   0 875   0   0]\n",
      " [  0   0   2   1   0   1   1   0 803   4]\n",
      " [  0   0   0   1   3   2   0   1   1 829]]\n"
     ]
    },
    {
     "data": {
      "image/png": "[encoded data removed]",
      "text/plain": [
       "<Figure size 432x288 with 2 Axes>"
      ]
     },
     "metadata": {
      "needs_background": "light"
     },
     "output_type": "display_data"
    }
   ],
   "source": [
    "plot_confusion_matrix(cm, data.classes) # True Labels VS predicted Labels"
   ]
  }
 ],
 "metadata": {
  "kernelspec": {
   "display_name": "Python 3",
   "language": "python",
   "name": "python3"
  },
  "language_info": {
   "codemirror_mode": {
    "name": "ipython",
    "version": 3
   },
   "file_extension": ".py",
   "mimetype": "text/x-python",
   "name": "python",
   "nbconvert_exporter": "python",
   "pygments_lexer": "ipython3",
   "version": "3.6.6"
  }
 },
 "nbformat": 4,
 "nbformat_minor": 2
}
